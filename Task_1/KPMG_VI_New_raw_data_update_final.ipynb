{
 "cells": [
  {
   "cell_type": "markdown",
   "id": "06777800",
   "metadata": {},
   "source": [
    "# Data Quality Analysis\n",
    "This notebook is created to found issues about data quality in 'Transactions','CustomerDemographic','NewCustomerList' and 'CustomerAdress' datasets given by Sprocket Central Pty Ltd Data Set"
   ]
  },
  {
   "cell_type": "code",
   "execution_count": 274,
   "id": "d8555908",
   "metadata": {},
   "outputs": [
    {
     "name": "stdout",
     "output_type": "stream",
     "text": [
      "setup complete!\n"
     ]
    }
   ],
   "source": [
    "#Importing libraries\n",
    "#-------------------------------\n",
    "\n",
    "import pandas as pd\n",
    "import numpy as np\n",
    "import matplotlib.pyplot as plt\n",
    "pd.plotting.register_matplotlib_converters()\n",
    "%matplotlib inline\n",
    "import seaborn as sns\n",
    "print(\"setup complete!\")"
   ]
  },
  {
   "cell_type": "code",
   "execution_count": 275,
   "id": "ca43ffd1",
   "metadata": {},
   "outputs": [],
   "source": [
    "#Opening the File.xlsx\n",
    "#-------------------------------\n",
    "\n",
    "file_path = \"KPMG_VI_New_raw_data_update_final.xlsx\""
   ]
  },
  {
   "cell_type": "code",
   "execution_count": 276,
   "id": "181d6daa",
   "metadata": {},
   "outputs": [],
   "source": [
    "#Function to open the sheets as dataframes\n",
    "#-------------------------------\n",
    "\n",
    "def analysing_data(file_path, sheet, col):\n",
    "    data = pd.read_excel(file_path, sheet_name=sheet, index_col=0, skiprows=1, usecols=col)\n",
    "    return data"
   ]
  },
  {
   "cell_type": "code",
   "execution_count": 277,
   "id": "3e9e26f2",
   "metadata": {},
   "outputs": [],
   "source": [
    "#Sheet_1 - Transactions\n",
    "sheet_1 = analysing_data(file_path,'Transactions','A:M')\n",
    "\n",
    "#Sheet_2 - CustomerDemographic\n",
    "sheet_2 = analysing_data(file_path,'CustomerDemographic','A:M')\n",
    "\n",
    "#Sheet_3 - NewCustomersList\n",
    "sheet_3 = analysing_data(file_path,'NewCustomerList','A:W')\n",
    "\n",
    "#Sheet_4 - CustomerAdress\n",
    "sheet_4 = analysing_data(file_path,'CustomerAddress','A:F')"
   ]
  },
  {
   "cell_type": "code",
   "execution_count": null,
   "id": "4791f897",
   "metadata": {},
   "outputs": [],
   "source": [
    "#Sheet_1 - Transactions\n",
    "sheet_1.info()"
   ]
  },
  {
   "cell_type": "code",
   "execution_count": null,
   "id": "7efd52c8",
   "metadata": {},
   "outputs": [],
   "source": [
    "#Sheet_2 - CustomerDemographic\n",
    "sheet_2.info()"
   ]
  },
  {
   "cell_type": "code",
   "execution_count": null,
   "id": "7b228706",
   "metadata": {},
   "outputs": [],
   "source": [
    "#Sheet_3 - NewCustomersList\n",
    "sheet_3.info()"
   ]
  },
  {
   "cell_type": "code",
   "execution_count": null,
   "id": "ce22810b",
   "metadata": {},
   "outputs": [],
   "source": [
    "#Sheet_4 - CustomerAdress\n",
    "sheet_4.info()"
   ]
  },
  {
   "cell_type": "code",
   "execution_count": 278,
   "id": "d51656a0",
   "metadata": {},
   "outputs": [],
   "source": [
    "#Function to Accuracy\n",
    "#-------------------------------\n",
    "\n",
    "def Accuracy(file):\n",
    "    value = file.columns.to_series().groupby(file.dtypes).groups\n",
    "    return value"
   ]
  },
  {
   "cell_type": "code",
   "execution_count": 279,
   "id": "f8676706",
   "metadata": {},
   "outputs": [
    {
     "name": "stdout",
     "output_type": "stream",
     "text": [
      "---------|Sheet(1)-Transactions:\n",
      "{int64: ['product_id', 'customer_id'], datetime64[ns]: ['transaction_date'], float64: ['online_order', 'list_price', 'standard_cost', 'product_first_sold_date'], object: ['order_status', 'brand', 'product_line', 'product_class', 'product_size']}\n",
      "\n",
      "\n",
      "---------|Sheet(2)-CustomerDemographic:\n",
      "{int64: ['past_3_years_bike_related_purchases'], datetime64[ns]: ['DOB'], float64: ['tenure'], object: ['first_name', 'last_name', 'gender', 'job_title', 'job_industry_category', 'wealth_segment', 'deceased_indicator', 'default', 'owns_car']}\n",
      "\n",
      "\n",
      "---------|Sheet(3)-NewCustomerList:\n",
      "{int64: ['past_3_years_bike_related_purchases', 'tenure', 'postcode', 'property_valuation', 'Unnamed: 20', 'Rank'], datetime64[ns]: ['DOB'], float64: ['Unnamed: 16', 'Unnamed: 17', 'Unnamed: 18', 'Unnamed: 19', 'Value'], object: ['last_name', 'gender', 'job_title', 'job_industry_category', 'wealth_segment', 'deceased_indicator', 'owns_car', 'address', 'state', 'country']}\n",
      "\n",
      "\n",
      "---------|Sheet(4)-CustomerAdress:\n",
      "{int64: ['postcode', 'property_valuation'], object: ['address', 'state', 'country']}\n",
      "\n",
      "\n"
     ]
    }
   ],
   "source": [
    "#Sheet_1 - Transactions\n",
    "print('---------|Sheet(1)-Transactions:')\n",
    "print(Accuracy(sheet_1))\n",
    "print('\\n')\n",
    "\n",
    "#Sheet_2 - CustomerDemographic\n",
    "print('---------|Sheet(2)-CustomerDemographic:')\n",
    "print(Accuracy(sheet_2))\n",
    "print('\\n')\n",
    "\n",
    "#Sheet_3 - NewCustomersList\n",
    "print('---------|Sheet(3)-NewCustomerList:')\n",
    "print(Accuracy(sheet_3))\n",
    "print('\\n')\n",
    "\n",
    "#Sheet_4 - CustomerAdress\n",
    "print('---------|Sheet(4)-CustomerAdress:')\n",
    "print(Accuracy(sheet_4))\n",
    "print('\\n')"
   ]
  },
  {
   "cell_type": "code",
   "execution_count": 280,
   "id": "4713d060",
   "metadata": {},
   "outputs": [],
   "source": [
    "#Function to Completeness\n",
    "#-------------------------------\n",
    "def Completeness (file):\n",
    "    \n",
    "    missing_values_count = file.isnull().sum()\n",
    "    total_cells = np.product(file.shape)\n",
    "    total_missing = missing_values_count.sum()\n",
    "\n",
    "    #percent of data missed\n",
    "    percent = (total_missing / total_cells) * 100\n",
    "    complete = (total_cells - total_missing)\n",
    "    print(f'Data Empty:', round(percent,2))\n",
    "    print(f'Data Complete:', round(complete, 2))\n",
    "\n",
    "    #Creating a dataframe to stackedbar\n",
    "    data = pd.DataFrame({'Total_Row': file.count(axis=0), 'Missing': file.isnull().sum()})\n",
    "\n",
    "    # create stacked bar chart for monthly temperatures\n",
    "    data.plot.bar(stacked=True, figsize=(12,6))\n",
    "    plt.ylabel('Number of Records')\n",
    "    plt.title(f'Total Value Missed per Column')"
   ]
  },
  {
   "cell_type": "code",
   "execution_count": 281,
   "id": "6ac4244b",
   "metadata": {},
   "outputs": [
    {
     "name": "stdout",
     "output_type": "stream",
     "text": [
      "---------|Sheet(1)-Transactions:\n",
      "Data Empty: 0.64\n",
      "Data Complete: 238458\n",
      "None\n",
      "\n",
      "\n"
     ]
    },
    {
     "data": {
      "image/png": "[encoded data removed]",
      "text/plain": [
       "<Figure size 864x432 with 1 Axes>"
      ]
     },
     "metadata": {
      "needs_background": "light"
     },
     "output_type": "display_data"
    }
   ],
   "source": [
    "#Sheet_1 - Transactions\n",
    "print('---------|Sheet(1)-Transactions:')\n",
    "print(Completeness(sheet_1))\n",
    "print('\\n')\n",
    " "
   ]
  },
  {
   "cell_type": "code",
   "execution_count": 283,
   "id": "2cbea3d0",
   "metadata": {},
   "outputs": [
    {
     "data": {
      "text/plain": [
       "transaction_id\n",
       "1        0.0\n",
       "2        1.0\n",
       "3        0.0\n",
       "4        0.0\n",
       "5        1.0\n",
       "        ... \n",
       "19996    1.0\n",
       "19997    1.0\n",
       "19998    1.0\n",
       "19999    0.0\n",
       "20000    1.0\n",
       "Name: online_order, Length: 20000, dtype: float64"
      ]
     },
     "execution_count": 283,
     "metadata": {},
     "output_type": "execute_result"
    }
   ],
   "source": [
    "sheet_1['online_order']"
   ]
  },
  {
   "cell_type": "code",
   "execution_count": null,
   "id": "456d63ab",
   "metadata": {},
   "outputs": [],
   "source": [
    "#Sheet_2 - CustomerDemographic\n",
    "print('---------|Sheet(2)-CustomerDemographic:')\n",
    "print(Completeness(sheet_2))\n",
    "print('\\n')"
   ]
  },
  {
   "cell_type": "code",
   "execution_count": null,
   "id": "bcb2acb0",
   "metadata": {},
   "outputs": [],
   "source": [
    "#Sheet_3 - NewCustomersList\n",
    "print('---------|Sheet(3)-NewCustomerList:')\n",
    "print(Completeness(sheet_3))\n",
    "print('\\n')"
   ]
  },
  {
   "cell_type": "code",
   "execution_count": null,
   "id": "9cde2ede",
   "metadata": {},
   "outputs": [],
   "source": [
    "#Sheet_4 - CustomerAdress\n",
    "print('---------|Sheet(4)-CustomerAdress:')\n",
    "print(Completeness(sheet_4))\n",
    "print('\\n')"
   ]
  },
  {
   "cell_type": "code",
   "execution_count": null,
   "id": "6f73a0bc",
   "metadata": {},
   "outputs": [],
   "source": [
    "#Function to Consistency\n",
    "\n",
    "def Consistency(file_list):\n",
    "    \n",
    "    neo = list()\n",
    "    dic = dict()\n",
    "    \n",
    "    for x in file_list:\n",
    "        for w in x.columns:\n",
    "            neo.append(w)\n",
    "            \n",
    "    for item in neo:\n",
    "        dic[item] = dic.get(item,0)+1\n",
    "                \n",
    "    return dic"
   ]
  },
  {
   "cell_type": "code",
   "execution_count": null,
   "id": "281feebc",
   "metadata": {},
   "outputs": [],
   "source": [
    "file_list = [sheet_1, sheet_2, sheet_3, sheet_4]\n",
    "Consistency(file_list)"
   ]
  },
  {
   "cell_type": "code",
   "execution_count": null,
   "id": "12c4abec",
   "metadata": {},
   "outputs": [],
   "source": [
    "#Comments:\n",
    "#4 columns without description?\n",
    "sheet_3.head()"
   ]
  },
  {
   "cell_type": "code",
   "execution_count": null,
   "id": "08c5e463",
   "metadata": {},
   "outputs": [],
   "source": [
    "#Function to Currency - datetime64[ns]\n",
    "\n",
    "#-------------------------------\n",
    "\n",
    "def Currency(file, path):\n",
    "    print(\"Max date: {}\".format(file[path].max()))\n",
    "    print('------------------')\n",
    "    print(\"Min date: {}\".format(file[path].min()))\n",
    "    "
   ]
  },
  {
   "cell_type": "code",
   "execution_count": null,
   "id": "ff1b6fc5",
   "metadata": {},
   "outputs": [],
   "source": [
    "Currency(sheet_1, 'transaction_date')"
   ]
  },
  {
   "cell_type": "code",
   "execution_count": null,
   "id": "925248c2",
   "metadata": {},
   "outputs": [],
   "source": [
    "Currency(sheet_2, 'DOB')"
   ]
  },
  {
   "cell_type": "code",
   "execution_count": null,
   "id": "659e910b",
   "metadata": {},
   "outputs": [],
   "source": [
    "sheet_2.query(\"DOB == '1843-12-21'\")"
   ]
  },
  {
   "cell_type": "code",
   "execution_count": null,
   "id": "8032744c",
   "metadata": {},
   "outputs": [],
   "source": [
    "Currency(sheet_3, 'DOB')"
   ]
  },
  {
   "cell_type": "code",
   "execution_count": 240,
   "id": "e269ab07",
   "metadata": {},
   "outputs": [
    {
     "data": {
      "text/plain": [
       "transaction_id\n",
       "1   2045-04-12\n",
       "Name: product_first_sold_date, dtype: datetime64[ns]"
      ]
     },
     "execution_count": 240,
     "metadata": {},
     "output_type": "execute_result"
    }
   ],
   "source": [
    "#'product_first_sold_date' with a wrong type data - it should be date not float and cannot transform it...\n",
    "sheet_1['product_first_sold_date']\n",
    "pd.to_datetime(sheet_1['product_first_sold_date'][[1]], format='%m%d%y')"
   ]
  },
  {
   "cell_type": "code",
   "execution_count": 251,
   "id": "4f323401",
   "metadata": {},
   "outputs": [],
   "source": [
    "#Validity -> Data containing allowable values\n",
    "\n",
    "def Validity_id(file):\n",
    "    for x in file:\n",
    "        if type(x) != int:\n",
    "            print(x)\n",
    "        else:\n",
    "            pass\n",
    "    print('All validated!')        \n",
    "\n",
    "\n",
    "def Validity_gender(file):\n",
    "    \n",
    "    dic = dict()\n",
    "    \n",
    "    for x in file:\n",
    "        if x not in dic:\n",
    "            dic[x] = 1\n",
    "        else:\n",
    "            dic[x] = dic[x] + 1\n",
    "            \n",
    "    return dic\n"
   ]
  },
  {
   "cell_type": "code",
   "execution_count": 252,
   "id": "54e25d19",
   "metadata": {},
   "outputs": [
    {
     "name": "stdout",
     "output_type": "stream",
     "text": [
      "Sheet 1 - Transactions\n",
      "All validated!\n",
      "None\n",
      "\n",
      "\n",
      "Sheet 1 - Transactions\n",
      "All validated!\n",
      "None\n",
      "\n",
      "\n"
     ]
    }
   ],
   "source": [
    "print('Sheet 1 - Transactions')\n",
    "print(Validity_id(sheet_1['product_id']))\n",
    "print('\\n')\n",
    "\n",
    "print('Sheet 1 - Transactions')\n",
    "print(Validity_id(sheet_1['customer_id']))\n",
    "print('\\n')"
   ]
  },
  {
   "cell_type": "code",
   "execution_count": 253,
   "id": "4ba043d6",
   "metadata": {},
   "outputs": [
    {
     "name": "stdout",
     "output_type": "stream",
     "text": [
      "Sheet 2 - Customer Demographic\n",
      "{'F': 1, 'Male': 1872, 'Female': 2037, 'U': 88, 'Femal': 1, 'M': 1}\n",
      "\n",
      "\n",
      "Sheet 3 - New Customer List\n",
      "{'Male': 470, 'Female': 513, 'U': 17}\n",
      "\n",
      "\n"
     ]
    }
   ],
   "source": [
    "print('Sheet 2 - Customer Demographic')\n",
    "print(Validity_gender(sheet_2['gender']))\n",
    "print('\\n')\n",
    "\n",
    "print('Sheet 3 - New Customer List')\n",
    "print(Validity_gender(sheet_3['gender']))\n",
    "print('\\n')"
   ]
  },
  {
   "cell_type": "code",
   "execution_count": 254,
   "id": "b54fcb3a",
   "metadata": {},
   "outputs": [
    {
     "name": "stdout",
     "output_type": "stream",
     "text": [
      "Sheet 4 - Customer Address\n",
      "{'New South Wales': 86, 'QLD': 838, 'VIC': 939, 'NSW': 2054, 'Victoria': 82}\n",
      "\n",
      "\n"
     ]
    }
   ],
   "source": [
    "print('Sheet 4 - Customer Address')\n",
    "print(Validity_gender(sheet_4['state']))\n",
    "print('\\n')"
   ]
  },
  {
   "cell_type": "code",
   "execution_count": 273,
   "id": "07ded461",
   "metadata": {},
   "outputs": [
    {
     "data": {
      "text/plain": [
       "customer_id\n",
       "1                                                   \"'\n",
       "2                         <script>alert('hi')</script>\n",
       "3                                  2018-02-01 00:00:00\n",
       "4    () { _; } >_[$($())] { touch /tmp/blns.shellsh...\n",
       "5                                                  NIL\n",
       "Name: default, dtype: object"
      ]
     },
     "execution_count": 273,
     "metadata": {},
     "output_type": "execute_result"
    }
   ],
   "source": [
    "#Relevancy -> Data Items with Value Meta-Data\n",
    "sheet_2['default'].head()"
   ]
  },
  {
   "cell_type": "code",
   "execution_count": 268,
   "id": "03c8e508",
   "metadata": {},
   "outputs": [],
   "source": [
    "#Uniqueness -> Values that are duplicated\n",
    "def Unique(file):\n",
    "    return file[file.duplicated()]"
   ]
  },
  {
   "cell_type": "code",
   "execution_count": 270,
   "id": "c69ff1c0",
   "metadata": {},
   "outputs": [
    {
     "data": {
      "text/html": [
       "<div>\n",
       "<style scoped>\n",
       "    .dataframe tbody tr th:only-of-type {\n",
       "        vertical-align: middle;\n",
       "    }\n",
       "\n",
       "    .dataframe tbody tr th {\n",
       "        vertical-align: top;\n",
       "    }\n",
       "\n",
       "    .dataframe thead th {\n",
       "        text-align: right;\n",
       "    }\n",
       "</style>\n",
       "<table border=\"1\" class=\"dataframe\">\n",
       "  <thead>\n",
       "    <tr style=\"text-align: right;\">\n",
       "      <th></th>\n",
       "      <th>product_id</th>\n",
       "      <th>customer_id</th>\n",
       "      <th>transaction_date</th>\n",
       "      <th>online_order</th>\n",
       "      <th>order_status</th>\n",
       "      <th>brand</th>\n",
       "      <th>product_line</th>\n",
       "      <th>product_class</th>\n",
       "      <th>product_size</th>\n",
       "      <th>list_price</th>\n",
       "      <th>standard_cost</th>\n",
       "      <th>product_first_sold_date</th>\n",
       "    </tr>\n",
       "    <tr>\n",
       "      <th>transaction_id</th>\n",
       "      <th></th>\n",
       "      <th></th>\n",
       "      <th></th>\n",
       "      <th></th>\n",
       "      <th></th>\n",
       "      <th></th>\n",
       "      <th></th>\n",
       "      <th></th>\n",
       "      <th></th>\n",
       "      <th></th>\n",
       "      <th></th>\n",
       "      <th></th>\n",
       "    </tr>\n",
       "  </thead>\n",
       "  <tbody>\n",
       "  </tbody>\n",
       "</table>\n",
       "</div>"
      ],
      "text/plain": [
       "Empty DataFrame\n",
       "Columns: [product_id, customer_id, transaction_date, online_order, order_status, brand, product_line, product_class, product_size, list_price, standard_cost, product_first_sold_date]\n",
       "Index: []"
      ]
     },
     "execution_count": 270,
     "metadata": {},
     "output_type": "execute_result"
    }
   ],
   "source": [
    "Unique(sheet_1)"
   ]
  },
  {
   "cell_type": "code",
   "execution_count": 284,
   "id": "51a85b37",
   "metadata": {},
   "outputs": [
    {
     "data": {
      "text/plain": [
       "first_name\n",
       "Chickie         1\n",
       "Morly           1\n",
       "Ardelis         1\n",
       "Lucine          4\n",
       "Melinda         4\n",
       "             ... \n",
       "Ferdinand     996\n",
       "Burk          997\n",
       "Melloney      997\n",
       "Dickie        997\n",
       "Sylas        1000\n",
       "Name: Rank, Length: 1000, dtype: int64"
      ]
     },
     "execution_count": 284,
     "metadata": {},
     "output_type": "execute_result"
    }
   ],
   "source": [
    "sheet_3['Rank']"
   ]
  },
  {
   "cell_type": "code",
   "execution_count": null,
   "id": "6a9c57ef",
   "metadata": {},
   "outputs": [],
   "source": []
  }
 ],
 "metadata": {
  "kernelspec": {
   "display_name": "Python 3 (ipykernel)",
   "language": "python",
   "name": "python3"
  },
  "language_info": {
   "codemirror_mode": {
    "name": "ipython",
    "version": 3
   },
   "file_extension": ".py",
   "mimetype": "text/x-python",
   "name": "python",
   "nbconvert_exporter": "python",
   "pygments_lexer": "ipython3",
   "version": "3.9.7"
  }
 },
 "nbformat": 4,
 "nbformat_minor": 5
}
